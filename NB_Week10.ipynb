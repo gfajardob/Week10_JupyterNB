{
 "cells": [
  {
   "cell_type": "markdown",
   "metadata": {},
   "source": [
    "# Week 10 - Programming Fundamentals (My First Notebook)\n",
    "\n",
    "I've been struggling to find relevant data for our History Helper project. So this week, for fun I'll work with books. I found a data set from Kaggle, but I'm hestitant because it doesn't seem very trustworthy (source wise).\n",
    "\n",
    "Objective: I want to find the correlation between highest rated books and their sales, since I've heard that the mayority of US readers focus more on the marketing of the book that in their literary quality. "
   ]
  },
  {
   "cell_type": "markdown",
   "metadata": {},
   "source": [
    "## First try"
   ]
  },
  {
   "cell_type": "code",
   "execution_count": 7,
   "metadata": {},
   "outputs": [
    {
     "name": "stdout",
     "output_type": "stream",
     "text": [
      "Most Sold Books (Top 5):\n",
      "                                         Book Name  units sold\n",
      "New Moon: The Complete Illustrated Movie Companion       61560\n",
      "                                     Maybe Someday       61128\n",
      "                                          Mr Maybe       61128\n",
      "                                Anne of the Island       60696\n",
      "                           Also sprach Zarathustra       59400\n",
      "\n",
      "Highest Rated Books (Top 5):\n",
      "                                                    Book Name  Book_average_rating\n",
      "                                            Words of Radiance                 4.77\n",
      "                                     A Court of Mist and Fury                 4.72\n",
      "The Essential Calvin and Hobbes: A Calvin and Hobbes Treasury                 4.65\n",
      "                                             The Way of Kings                 4.64\n",
      "                                            Calvin and Hobbes                 4.61\n"
     ]
    }
   ],
   "source": [
    "import pandas as pd\n",
    "import matplotlib.pyplot as plt\n",
    "\n",
    "# Step 1: Load book dataset\n",
    "file_path = '/Users/gabrielafajardobocanegra/Programming Fundamentals/NB/Books_Data_Clean.csv' #I have a hard time opening files, it always leads to errors. Find out why*\n",
    "books_data = pd.read_csv(file_path)\n",
    "\n",
    "# Step 2: Show 5 most sold titles\n",
    "most_sold_books = books_data.nlargest(5, 'units sold')[['Book Name', 'units sold']]\n",
    "\n",
    "# Step 3: Show highest rated books\n",
    "highest_rated_books = books_data.nlargest(5, 'Book_average_rating')[['Book Name', 'Book_average_rating']]\n",
    "\n",
    "# Steo 4: Display \n",
    "print(\"Most Sold Books (Top 5):\")\n",
    "print(most_sold_books.to_string(index=False))\n",
    "\n",
    "print(\"\\nHighest Rated Books (Top 5):\")\n",
    "print(highest_rated_books.to_string(index=False))"
   ]
  },
  {
   "cell_type": "markdown",
   "metadata": {},
   "source": [
    "## Second try \n",
    "\n",
    "I realized I needed to include the author's name as well and the avarages to compare how above the average the highest in both categories were. "
   ]
  },
  {
   "cell_type": "code",
   "execution_count": 9,
   "metadata": {},
   "outputs": [
    {
     "name": "stdout",
     "output_type": "stream",
     "text": [
      "Most Sold Books (Top 5):\n",
      "                                         Book Name                               Author  units sold\n",
      "New Moon: The Complete Illustrated Movie Companion                       Mark Cotta Vaz       61560\n",
      "                                     Maybe Someday                       Colleen Hoover       61128\n",
      "                                          Mr Maybe                           Jane Green       61128\n",
      "                                Anne of the Island                      L.M. Montgomery       60696\n",
      "                           Also sprach Zarathustra Friedrich Nietzsche, Walter Kaufmann       59400\n",
      "\n",
      "Average Units Sold: 9676.98\n",
      "\n",
      "Highest Rated Books (Top 5):\n",
      "                                                    Book Name                       Author  Book_average_rating\n",
      "                                            Words of Radiance            Brandon Sanderson                 4.77\n",
      "                                     A Court of Mist and Fury                Sarah J. Maas                 4.72\n",
      "The Essential Calvin and Hobbes: A Calvin and Hobbes Treasury               Bill Watterson                 4.65\n",
      "                                             The Way of Kings            Brandon Sanderson                 4.64\n",
      "                                            Calvin and Hobbes Bill Watterson, G.B. Trudeau                 4.61\n",
      "Average Rating: 4.01\n"
     ]
    }
   ],
   "source": [
    "import pandas as pd\n",
    "import matplotlib.pyplot as plt\n",
    "\n",
    "# Step 1: Load book dataset\n",
    "file_path = '/Users/gabrielafajardobocanegra/Programming Fundamentals/NB/Books_Data_Clean.csv' #I have a hard time opening files, it always leads to errors. Find out why*\n",
    "books_data = pd.read_csv(file_path)\n",
    "\n",
    "# Step 2: Show 5 most sold titles\n",
    "most_sold_books = books_data.nlargest(5, 'units sold')[['Book Name', 'Author', 'units sold']]\n",
    "average_units_sold = books_data['units sold'].mean()\n",
    "\n",
    "# Step 3: Show highest rated books\n",
    "highest_rated_books = books_data.nlargest(5, 'Book_average_rating')[['Book Name', 'Author', 'Book_average_rating']]\n",
    "average_rating = books_data['Book_average_rating'].mean()\n",
    "\n",
    "# Steo 4: Display \n",
    "print(\"Most Sold Books (Top 5):\")\n",
    "print(most_sold_books.to_string(index=False))\n",
    "print(\"\\nAverage Units Sold:\", round(average_units_sold, 2))\n",
    "\n",
    "print(\"\\nHighest Rated Books (Top 5):\")\n",
    "print(highest_rated_books.to_string(index=False))\n",
    "print(\"Average Rating:\", round(average_rating, 2))"
   ]
  },
  {
   "cell_type": "markdown",
   "metadata": {},
   "source": [
    "### Conclusion \n",
    "\n",
    "This is why I don't trust this data set. The list includes authors like Ursula K. Le Guin, C. S. Lewis, Harper Lee... yet none of these are mentioned in highest ranked authors. "
   ]
  },
  {
   "cell_type": "code",
   "execution_count": null,
   "metadata": {},
   "outputs": [],
   "source": [
    "import pandas as pd\n",
    "import matplotlib.pyplot as plt\n",
    "\n",
    "# Step 1: Load book dataset\n",
    "file_path = '/Users/gabrielafajardobocanegra/Programming Fundamentals/NB/Books_Data_Clean.csv' #I have a hard time opening files, it always leads to errors. Find out why*\n",
    "books_data = pd.read_csv(file_path)\n",
    "\n",
    "# Step 2: Show 5 most sold titles\n",
    "most_sold_books = books_data.nlargest(5, 'units sold')[['Book Name', 'Author', 'units sold']]\n",
    "average_units_sold = books_data['units sold'].mean()\n",
    "\n",
    "# Step 3: Show highest rated books\n",
    "highest_rated_books = books_data.nlargest(5, 'Book_average_rating')[['Book Name', 'Author', 'Book_average_rating']]\n",
    "average_rating = books_data['Book_average_rating'].mean()\n",
    "\n",
    "# Steo 4: Print \n",
    "print(\"Most Sold Books (Top 5):\")\n",
    "print(most_sold_books.to_string(index=False))\n",
    "print(\"\\nAverage Units Sold:\", round(average_units_sold, 2))\n",
    "\n",
    "print(\"\\nHighest Rated Books (Top 5):\")\n",
    "print(highest_rated_books.to_string(index=False))\n",
    "print(\"Average Rating:\", round(average_rating, 2))\n",
    "\n",
    "# Step 5: \n",
    "\n"
   ]
  }
 ],
 "metadata": {
  "kernelspec": {
   "display_name": "Python 3",
   "language": "python",
   "name": "python3"
  },
  "language_info": {
   "codemirror_mode": {
    "name": "ipython",
    "version": 3
   },
   "file_extension": ".py",
   "mimetype": "text/x-python",
   "name": "python",
   "nbconvert_exporter": "python",
   "pygments_lexer": "ipython3",
   "version": "3.12.6"
  }
 },
 "nbformat": 4,
 "nbformat_minor": 2
}
